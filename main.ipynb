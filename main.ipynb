{
 "cells": [
  {
   "cell_type": "markdown",
   "id": "9325052a",
   "metadata": {
    "papermill": {
     "duration": 0.005558,
     "end_time": "2022-10-26T13:04:24.583489",
     "exception": false,
     "start_time": "2022-10-26T13:04:24.577931",
     "status": "completed"
    },
    "tags": []
   },
   "source": [
    "# Understanding Dataset"
   ]
  },
  {
   "cell_type": "markdown",
   "id": "cdf679a9",
   "metadata": {
    "papermill": {
     "duration": 0.004035,
     "end_time": "2022-10-26T13:04:24.592085",
     "exception": false,
     "start_time": "2022-10-26T13:04:24.588050",
     "status": "completed"
    },
    "tags": []
   },
   "source": [
    "### To identify online payment fraud with machine learning, we need to train a machine learning model for classifying fraudulent and non-fraudulent payments. For this, we need a dataset containing information about online payment fraud, so that we can understand what type of transactions lead to fraud."
   ]
  },
  {
   "cell_type": "markdown",
   "id": "796ea716",
   "metadata": {
    "papermill": {
     "duration": 0.004182,
     "end_time": "2022-10-26T13:04:24.600620",
     "exception": false,
     "start_time": "2022-10-26T13:04:24.596438",
     "status": "completed"
    },
    "tags": []
   },
   "source": [
    "### Below are all the columns from the dataset we are using here:\n",
    "\n",
    "#### step: represents a unit of time where 1 step equals 1 hour\n",
    "#### type: type of online transaction\n",
    "#### amount: the amount of the transaction\n",
    "#### nameOrig: customer starting the transaction\n",
    "#### oldbalanceOrg: balance before the transaction\n",
    "#### newbalanceOrig: balance after the transaction\n",
    "#### nameDest: recipient of the transaction\n",
    "#### oldbalanceDest: initial balance of recipient before the transaction\n",
    "#### newbalanceDest: the new balance of recipient after the transaction\n",
    "#### isFraud: fraud transaction"
   ]
  },
  {
   "cell_type": "markdown",
   "id": "c468b9b3",
   "metadata": {
    "papermill": {
     "duration": 0.003986,
     "end_time": "2022-10-26T13:04:24.608836",
     "exception": false,
     "start_time": "2022-10-26T13:04:24.604850",
     "status": "completed"
    },
    "tags": []
   },
   "source": [
    "# ---------------------------------------------------------------------------------------"
   ]
  },
  {
   "cell_type": "markdown",
   "id": "18c791c4",
   "metadata": {
    "papermill": {
     "duration": 0.005687,
     "end_time": "2022-10-26T13:04:24.619342",
     "exception": false,
     "start_time": "2022-10-26T13:04:24.613655",
     "status": "completed"
    },
    "tags": []
   },
   "source": [
    "# Importing Liberaries & Dataset"
   ]
  },
  {
   "cell_type": "code",
   "execution_count": 1,
   "id": "4441fa92",
   "metadata": {
    "papermill": {
     "duration": 2.388231,
     "end_time": "2022-10-26T13:04:27.012511",
     "exception": false,
     "start_time": "2022-10-26T13:04:24.624280",
     "status": "completed"
    },
    "tags": []
   },
   "outputs": [],
   "source": [
    "import pandas as pd\n",
    "import numpy as np\n",
    "import pickle\n",
    "import warnings\n",
    "warnings.filterwarnings('ignore')\n",
    "import plotly.express as px\n",
    "from sklearn.preprocessing import LabelEncoder\n",
    "from sklearn.model_selection import StratifiedKFold\n",
    "from sklearn.metrics import roc_auc_score\n",
    "from sklearn.ensemble import GradientBoostingRegressor"
   ]
  },
  {
   "cell_type": "code",
   "execution_count": 2,
   "id": "b5096e9e",
   "metadata": {},
   "outputs": [
    {
     "data": {
      "text/plain": [
       "'\\nwith open(\"score.csv\",\"+a\") as file:\\n    writer = csv.writer(file)\\n    writer.writerow([\"Module\",\"Accuracy Score\",\"Precision Score\",\"Recall Score\",\"F1 Score\"])\\n'"
      ]
     },
     "execution_count": 2,
     "metadata": {},
     "output_type": "execute_result"
    }
   ],
   "source": [
    "\n",
    "\"\"\"\n",
    "with open(\"score.csv\",\"+a\") as file:\n",
    "    writer = csv.writer(file)\n",
    "    writer.writerow([\"Module\",\"Accuracy Score\",\"Precision Score\",\"Recall Score\",\"F1 Score\"])\n",
    "\"\"\""
   ]
  },
  {
   "cell_type": "code",
   "execution_count": 3,
   "id": "f2a7fccb",
   "metadata": {
    "papermill": {
     "duration": 19.255395,
     "end_time": "2022-10-26T13:04:46.272580",
     "exception": false,
     "start_time": "2022-10-26T13:04:27.017185",
     "status": "completed"
    },
    "tags": []
   },
   "outputs": [
    {
     "name": "stdout",
     "output_type": "stream",
     "text": [
      "   step      type    amount     nameOrig  oldbalanceOrg  newbalanceOrig  \\\n",
      "0     1   PAYMENT   9839.64  C1231006815       170136.0       160296.36   \n",
      "1     1   PAYMENT   1864.28  C1666544295        21249.0        19384.72   \n",
      "2     1  TRANSFER    181.00  C1305486145          181.0            0.00   \n",
      "3     1  CASH_OUT    181.00   C840083671          181.0            0.00   \n",
      "4     1   PAYMENT  11668.14  C2048537720        41554.0        29885.86   \n",
      "\n",
      "      nameDest  oldbalanceDest  newbalanceDest  isFraud  isFlaggedFraud  \n",
      "0  M1979787155             0.0             0.0        0               0  \n",
      "1  M2044282225             0.0             0.0        0               0  \n",
      "2   C553264065             0.0             0.0        1               0  \n",
      "3    C38997010         21182.0             0.0        1               0  \n",
      "4  M1230701703             0.0             0.0        0               0  \n"
     ]
    }
   ],
   "source": [
    "data = pd.read_csv(r\"C:\\Users\\ASUS\\Desktop\\Project\\CC\\onlinefraud.csv\")\n",
    "print(data.head())"
   ]
  },
  {
   "cell_type": "code",
   "execution_count": 4,
   "id": "020f052f",
   "metadata": {
    "papermill": {
     "duration": 0.017433,
     "end_time": "2022-10-26T13:04:46.295430",
     "exception": false,
     "start_time": "2022-10-26T13:04:46.277997",
     "status": "completed"
    },
    "tags": []
   },
   "outputs": [
    {
     "data": {
      "text/plain": [
       "(6362620, 11)"
      ]
     },
     "execution_count": 4,
     "metadata": {},
     "output_type": "execute_result"
    }
   ],
   "source": [
    "data.shape"
   ]
  },
  {
   "cell_type": "code",
   "execution_count": 5,
   "id": "23a9f432",
   "metadata": {},
   "outputs": [
    {
     "data": {
      "text/plain": [
       "step                int64\n",
       "type               object\n",
       "amount            float64\n",
       "nameOrig           object\n",
       "oldbalanceOrg     float64\n",
       "newbalanceOrig    float64\n",
       "nameDest           object\n",
       "oldbalanceDest    float64\n",
       "newbalanceDest    float64\n",
       "isFraud             int64\n",
       "isFlaggedFraud      int64\n",
       "dtype: object"
      ]
     },
     "execution_count": 5,
     "metadata": {},
     "output_type": "execute_result"
    }
   ],
   "source": [
    "data.dtypes"
   ]
  },
  {
   "cell_type": "code",
   "execution_count": 6,
   "id": "f1311d8e",
   "metadata": {
    "papermill": {
     "duration": 0.926087,
     "end_time": "2022-10-26T13:04:47.226516",
     "exception": false,
     "start_time": "2022-10-26T13:04:46.300429",
     "status": "completed"
    },
    "tags": []
   },
   "outputs": [
    {
     "name": "stdout",
     "output_type": "stream",
     "text": [
      "step              0\n",
      "type              0\n",
      "amount            0\n",
      "nameOrig          0\n",
      "oldbalanceOrg     0\n",
      "newbalanceOrig    0\n",
      "nameDest          0\n",
      "oldbalanceDest    0\n",
      "newbalanceDest    0\n",
      "isFraud           0\n",
      "isFlaggedFraud    0\n",
      "dtype: int64\n"
     ]
    }
   ],
   "source": [
    "# Checking Null Values\n",
    "\n",
    "print(data.isnull().sum())"
   ]
  },
  {
   "cell_type": "code",
   "execution_count": 7,
   "id": "d7572b83",
   "metadata": {
    "papermill": {
     "duration": 0.427806,
     "end_time": "2022-10-26T13:04:47.659090",
     "exception": false,
     "start_time": "2022-10-26T13:04:47.231284",
     "status": "completed"
    },
    "tags": []
   },
   "outputs": [
    {
     "name": "stdout",
     "output_type": "stream",
     "text": [
      "type\n",
      "CASH_OUT    2237500\n",
      "PAYMENT     2151495\n",
      "CASH_IN     1399284\n",
      "TRANSFER     532909\n",
      "DEBIT         41432\n",
      "Name: count, dtype: int64\n"
     ]
    }
   ],
   "source": [
    "print(data.type.value_counts())"
   ]
  },
  {
   "cell_type": "code",
   "execution_count": 8,
   "id": "e1a6b8d9",
   "metadata": {
    "papermill": {
     "duration": 1.138806,
     "end_time": "2022-10-26T13:04:51.896075",
     "exception": false,
     "start_time": "2022-10-26T13:04:50.757269",
     "status": "completed"
    },
    "tags": []
   },
   "outputs": [
    {
     "name": "stdout",
     "output_type": "stream",
     "text": [
      "   step  type    amount     nameOrig  oldbalanceOrg  newbalanceOrig  \\\n",
      "0     1     3   9839.64  C1231006815       170136.0       160296.36   \n",
      "1     1     3   1864.28  C1666544295        21249.0        19384.72   \n",
      "2     1     4    181.00  C1305486145          181.0            0.00   \n",
      "3     1     1    181.00   C840083671          181.0            0.00   \n",
      "4     1     3  11668.14  C2048537720        41554.0        29885.86   \n",
      "\n",
      "      nameDest  oldbalanceDest  newbalanceDest  isFraud  isFlaggedFraud  \n",
      "0  M1979787155             0.0             0.0        0               0  \n",
      "1  M2044282225             0.0             0.0        0               0  \n",
      "2   C553264065             0.0             0.0        1               0  \n",
      "3    C38997010         21182.0             0.0        1               0  \n",
      "4  M1230701703             0.0             0.0        0               0  \n"
     ]
    }
   ],
   "source": [
    "# Now let’s transform the categorical features into numerical.\n",
    "type_encod = LabelEncoder()\n",
    "data[\"type\"] = type_encod.fit_transform(data[\"type\"])\n",
    "print(data.head())"
   ]
  },
  {
   "cell_type": "code",
   "execution_count": 9,
   "id": "7d4b8588",
   "metadata": {
    "papermill": {
     "duration": 1.431629,
     "end_time": "2022-10-26T13:04:53.333050",
     "exception": false,
     "start_time": "2022-10-26T13:04:51.901421",
     "status": "completed"
    },
    "tags": []
   },
   "outputs": [],
   "source": [
    "# splitting the data\n",
    "\n",
    "X = np.array(data[[\"type\", \"amount\", \"oldbalanceOrg\", \"newbalanceOrig\"]])\n",
    "y = np.array(data[[\"isFraud\"]])"
   ]
  },
  {
   "cell_type": "code",
   "execution_count": 10,
   "id": "c520bee2",
   "metadata": {},
   "outputs": [],
   "source": [
    "skf = StratifiedKFold(n_splits=10, shuffle=True, random_state=42)"
   ]
  },
  {
   "cell_type": "markdown",
   "id": "bae5c8ad",
   "metadata": {},
   "source": [
    "# Gradient Boosting"
   ]
  },
  {
   "cell_type": "code",
   "execution_count": 12,
   "id": "7c409749",
   "metadata": {},
   "outputs": [
    {
     "name": "stdout",
     "output_type": "stream",
     "text": [
      "Fold 1 ROC-AUC Score: 0.9919\n",
      "\n",
      "\n",
      "Fold 2 ROC-AUC Score: 0.9906\n",
      "\n",
      "\n",
      "Fold 3 ROC-AUC Score: 0.9866\n",
      "\n",
      "\n",
      "Fold 4 ROC-AUC Score: 0.9897\n",
      "\n",
      "\n",
      "Fold 5 ROC-AUC Score: 0.9911\n",
      "\n",
      "\n",
      "Fold 6 ROC-AUC Score: 0.9893\n",
      "\n",
      "\n",
      "Fold 7 ROC-AUC Score: 0.9903\n",
      "\n",
      "\n",
      "Fold 8 ROC-AUC Score: 0.9885\n",
      "\n",
      "\n",
      "Fold 9 ROC-AUC Score: 0.9906\n",
      "\n",
      "\n",
      "Fold 10 ROC-AUC Score: 0.9893\n",
      "\n",
      "\n"
     ]
    }
   ],
   "source": [
    "model = GradientBoostingRegressor()\n",
    "\n",
    "for fold, (train_index, val_index) in enumerate(skf.split(X, y), 1):\n",
    "    X_train, X_test = X[train_index], X[val_index]\n",
    "    y_train, y_test = y[train_index], y[val_index]\n",
    "\n",
    "    model.fit(X_train, y_train)\n",
    "    y_pred = model.predict(X_test)\n",
    "    auc = roc_auc_score(y_test, y_pred)\n",
    "    print(f\"Fold {fold} ROC-AUC Score: {auc:.4f}\")\n",
    "    print(\"\\n\")\n",
    "    \n"
   ]
  },
  {
   "cell_type": "code",
   "execution_count": 13,
   "id": "83e73a78",
   "metadata": {},
   "outputs": [],
   "source": [
    "info = {\"model\" : model, \"type_encod\": type_encod}\n",
    "with open(\"model.pkl\",\"wb\") as file : \n",
    "    pickle.dump(info, file)"
   ]
  },
  {
   "cell_type": "code",
   "execution_count": 14,
   "id": "d3a938f6",
   "metadata": {},
   "outputs": [],
   "source": [
    "with open(\"model.pkl\",\"rb\") as file : \n",
    "    info1 = pickle.load(file)\n",
    "\n",
    "loaded_model = info1[\"model\"]\n",
    "type_encod1 = info1[\"type_encod\"]"
   ]
  },
  {
   "cell_type": "code",
   "execution_count": 15,
   "id": "26354fb4",
   "metadata": {},
   "outputs": [
    {
     "data": {
      "text/plain": [
       "array([5.40684573e-05, 1.39831968e-05, 2.42917005e-02, ...,\n",
       "       1.02834236e+00, 4.76670109e-01, 5.21223858e-01])"
      ]
     },
     "execution_count": 15,
     "metadata": {},
     "output_type": "execute_result"
    }
   ],
   "source": [
    "pred = loaded_model.predict(X)\n",
    "pred"
   ]
  },
  {
   "cell_type": "code",
   "execution_count": null,
   "id": "9ab9ed3f",
   "metadata": {},
   "outputs": [],
   "source": []
  }
 ],
 "metadata": {
  "kernelspec": {
   "display_name": "base",
   "language": "python",
   "name": "python3"
  },
  "language_info": {
   "codemirror_mode": {
    "name": "ipython",
    "version": 3
   },
   "file_extension": ".py",
   "mimetype": "text/x-python",
   "name": "python",
   "nbconvert_exporter": "python",
   "pygments_lexer": "ipython3",
   "version": "3.12.7"
  },
  "papermill": {
   "default_parameters": {},
   "duration": 87.188898,
   "end_time": "2022-10-26T13:05:42.974034",
   "environment_variables": {},
   "exception": null,
   "input_path": "__notebook__.ipynb",
   "output_path": "__notebook__.ipynb",
   "parameters": {},
   "start_time": "2022-10-26T13:04:15.785136",
   "version": "2.3.4"
  }
 },
 "nbformat": 4,
 "nbformat_minor": 5
}
